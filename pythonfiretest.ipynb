{
 "metadata": {
  "language_info": {
   "codemirror_mode": {
    "name": "ipython",
    "version": 3
   },
   "file_extension": ".py",
   "mimetype": "text/x-python",
   "name": "python",
   "nbconvert_exporter": "python",
   "pygments_lexer": "ipython3",
   "version": "3.9.4"
  },
  "orig_nbformat": 2,
  "kernelspec": {
   "name": "python394jvsc74a57bd00b384b78ba946ff748bc4a9cc84b0183dc81a03a5244de8ffbd58f038acf0b45",
   "display_name": "Python 3.9.4 64-bit ('PYTHONFIRE-VLnHjqAP': pipenv)"
  },
  "metadata": {
   "interpreter": {
    "hash": "0b384b78ba946ff748bc4a9cc84b0183dc81a03a5244de8ffbd58f038acf0b45"
   }
  }
 },
 "nbformat": 4,
 "nbformat_minor": 2,
 "cells": [
  {
   "cell_type": "code",
   "execution_count": 8,
   "metadata": {},
   "outputs": [],
   "source": [
    "from firebase import firebase"
   ]
  },
  {
   "cell_type": "code",
   "execution_count": 4,
   "metadata": {},
   "outputs": [
    {
     "output_type": "stream",
     "name": "stdout",
     "text": [
      "{'s1': {'name': 'Victor'}, 's2': {'name': 'Susana'}}\n"
     ]
    }
   ],
   "source": [
    "db = firebase.FirebaseApplication(\"https://pythonfire-cb1ab-default-rtdb.firebaseio.com/\", None)\n",
    "result = db.get(\"/students\",None)\n",
    "print(result)"
   ]
  },
  {
   "cell_type": "code",
   "execution_count": 6,
   "metadata": {},
   "outputs": [
    {
     "output_type": "stream",
     "name": "stdout",
     "text": [
      "{'name': 'Leobardo Sanchez', 'msj': 'Presente Profe'}\n"
     ]
    }
   ],
   "source": [
    "class Student:\n",
    "    def __init__(self,name,msj):\n",
    "        self.name = name\n",
    "        self.msj = msj\n",
    "\n",
    "s1 = Student(\"Leobardo Sanchez\",\"Presente Profe\")\n",
    "\n",
    "data_s1 = vars(s1)\n",
    "print(data_s1)"
   ]
  },
  {
   "cell_type": "code",
   "execution_count": 9,
   "metadata": {},
   "outputs": [
    {
     "output_type": "stream",
     "name": "stdout",
     "text": [
      "Registre asistencia de Leobardo Sanchez\n"
     ]
    }
   ],
   "source": [
    "db.post('/asistencia/',data_s1)\n",
    "print(f\"Registre asistencia de { data_s1['name'] }\")"
   ]
  },
  {
   "cell_type": "code",
   "execution_count": 10,
   "metadata": {},
   "outputs": [
    {
     "output_type": "stream",
     "name": "stdout",
     "text": [
      "{'msj': 'sisepuede', 'name': 'lasusana'}\n{'msj': 'Asistencia', 'name': 'Hassan Colio '}\n{'msj': 'Ingesu si me salio', 'name': 'Victor'}\n{'msj': 'Si asisti a su clase', 'name': 'Ivan'}\n{'msj': 'Si asisti a su clase', 'name': 'Jonathan'}\n{'msj': 'Vi el video profe,aqui esta la tarea', 'name1': 'Leonardo Daniel'}\n{'msj': 'Vi el video profe,aqui esta la tarea', 'name1': 'Leonardo Daniel'}\n{'msj': 'Asistencia', 'name': 'Hassan Colio '}\n{'msj': 'Presente Profe', 'name': 'Leobardo Sanchez'}\n"
     ]
    }
   ],
   "source": [
    "result = db.get('/asistencia', None)\n",
    "\n",
    "for student in result.values():\n",
    "  print(student)"
   ]
  },
  {
   "cell_type": "code",
   "execution_count": null,
   "metadata": {},
   "outputs": [],
   "source": []
  }
 ]
}