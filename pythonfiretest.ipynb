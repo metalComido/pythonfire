{
 "metadata": {
  "language_info": {
   "codemirror_mode": {
    "name": "ipython",
    "version": 3
   },
   "file_extension": ".py",
   "mimetype": "text/x-python",
   "name": "python",
   "nbconvert_exporter": "python",
   "pygments_lexer": "ipython3",
   "version": "3.9.4"
  },
  "orig_nbformat": 2,
  "kernelspec": {
   "name": "python394jvsc74a57bd00b384b78ba946ff748bc4a9cc84b0183dc81a03a5244de8ffbd58f038acf0b45",
   "display_name": "Python 3.9.4 64-bit ('PYTHONFIRE-VLnHjqAP': pipenv)"
  },
  "metadata": {
   "interpreter": {
    "hash": "0b384b78ba946ff748bc4a9cc84b0183dc81a03a5244de8ffbd58f038acf0b45"
   }
  }
 },
 "nbformat": 4,
 "nbformat_minor": 2,
 "cells": [
  {
   "cell_type": "code",
   "execution_count": 1,
   "metadata": {},
   "outputs": [],
   "source": [
    "from firebase import firebase"
   ]
  },
  {
   "cell_type": "code",
   "execution_count": 2,
   "metadata": {},
   "outputs": [
    {
     "output_type": "stream",
     "name": "stdout",
     "text": [
      "{'s1': {'name': 'Victor'}, 's2': {'name': 'Susana'}}\n"
     ]
    }
   ],
   "source": [
    "db = firebase.FirebaseApplication(\"https://pythonfire-cb1ab-default-rtdb.firebaseio.com/\", None)\n",
    "result = db.get(\"/students\",None)\n",
    "print(result)"
   ]
  },
  {
   "cell_type": "code",
   "execution_count": null,
   "metadata": {},
   "outputs": [],
   "source": []
  }
 ]
}